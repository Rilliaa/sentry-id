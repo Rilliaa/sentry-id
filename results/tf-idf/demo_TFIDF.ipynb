{
  "nbformat": 4,
  "nbformat_minor": 0,
  "metadata": {
    "colab": {
      "provenance": []
    },
    "kernelspec": {
      "name": "python3",
      "display_name": "Python 3"
    },
    "language_info": {
      "name": "python"
    }
  },
  "cells": [
    {
      "cell_type": "code",
      "execution_count": 3,
      "metadata": {
        "colab": {
          "base_uri": "https://localhost:8080/"
        },
        "id": "ITgOOHWuq_Xg",
        "outputId": "4fe6cacd-0c86-43a8-e2ed-cfc03e40aae7"
      },
      "outputs": [
        {
          "output_type": "stream",
          "name": "stdout",
          "text": [
            "Drive already mounted at /content/drive; to attempt to forcibly remount, call drive.mount(\"/content/drive\", force_remount=True).\n",
            "Komentar: Kapan lagi bisa kaya, yokk bisa join langsung di nickame ini yah. di jamin cepat kaya! no hoax\n",
            "Prediksi Label: PROMO_JUDOL\n",
            "Probabilitas: {'NORMAL': np.float64(0.14293060368842245), 'PROMO_JUDOL': np.float64(0.8200530231775144), 'RISKY': np.float64(0.03701637313406311)}\n",
            "--------------------------------------------------\n",
            "Komentar: banyak amat komentar judi nya, hapusin dong youtube\n",
            "Prediksi Label: RISKY\n",
            "Probabilitas: {'NORMAL': np.float64(0.09616794839014622), 'PROMO_JUDOL': np.float64(0.03613949733867921), 'RISKY': np.float64(0.8676925542711745)}\n",
            "--------------------------------------------------\n",
            "Komentar: bangg main ke banjar yook, biar di traktir\n",
            "Prediksi Label: NORMAL\n",
            "Probabilitas: {'NORMAL': np.float64(0.657622452206131), 'PROMO_JUDOL': np.float64(0.2975014536846983), 'RISKY': np.float64(0.04487609410917078)}\n",
            "--------------------------------------------------\n"
          ]
        }
      ],
      "source": [
        "import joblib\n",
        "from scipy.sparse import hstack\n",
        "from google.colab import drive\n",
        "drive.mount('/content/drive')\n",
        "\n",
        "# === 1. Load model & vectorizers ===\n",
        "model_path = \"/content/drive/My Drive/Colab Notebooks/Sentry-ID/Level_1/TF-IDF-LR/logreg_model_with_aug.joblib\"\n",
        "vec_word_path = \"/content/drive/My Drive/Colab Notebooks/Sentry-ID/Level_1/TF-IDF-LR/tfidf_word_vectorizer_with_aug.joblib\"\n",
        "vec_char_path = \"/content/drive/My Drive/Colab Notebooks/Sentry-ID/Level_1/TF-IDF-LR/tfidf_char_vectorizer_with_aug.joblib\"\n",
        "\n",
        "clf = joblib.load(model_path)\n",
        "vec_word = joblib.load(vec_word_path)\n",
        "vec_char = joblib.load(vec_char_path)\n",
        "\n",
        "# === 2. Siapkan komentar baru ===\n",
        "new_comments = [\n",
        "    \"Kapan lagi bisa kaya, yokk bisa join langsung di nickame ini yah. di jamin cepat kaya! no hoax\",\n",
        "    \"banyak amat komentar judi nya, hapusin dong youtube\",\n",
        "    \"bangg main ke banjar yook, biar di traktir\"\n",
        "]\n",
        "\n",
        "# === 3. Transformasi komentar ke fitur ===\n",
        "X_word = vec_word.transform(new_comments)\n",
        "X_char = vec_char.transform(new_comments)\n",
        "\n",
        "# Gabungkan fitur word + char\n",
        "X_new = hstack([X_word, X_char])\n",
        "\n",
        "# === 4. Prediksi kelas ===\n",
        "predictions = clf.predict(X_new)\n",
        "probabilities = clf.predict_proba(X_new)\n",
        "\n",
        "# === 5. Tampilkan hasil ===\n",
        "for comment, pred, prob in zip(new_comments, predictions, probabilities):\n",
        "    print(f\"Komentar: {comment}\")\n",
        "    print(f\"Prediksi Label: {pred}\")\n",
        "    print(f\"Probabilitas: {dict(zip(clf.classes_, prob))}\")\n",
        "    print(\"-\" * 50)\n"
      ]
    }
  ]
}